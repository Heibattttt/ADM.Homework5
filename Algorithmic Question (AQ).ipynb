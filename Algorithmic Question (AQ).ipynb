{
  "nbformat": 4,
  "nbformat_minor": 0,
  "metadata": {
    "colab": {
      "provenance": [],
      "authorship_tag": "ABX9TyMeCHKTm8uaE+jvna2YQYCI",
      "include_colab_link": true
    },
    "kernelspec": {
      "name": "python3",
      "display_name": "Python 3"
    },
    "language_info": {
      "name": "python"
    }
  },
  "cells": [
    {
      "cell_type": "markdown",
      "metadata": {
        "id": "view-in-github",
        "colab_type": "text"
      },
      "source": [
        "<a href=\"https://colab.research.google.com/github/Heibattttt/ADM.Homework5/blob/main/Algorithmic%20Question%20(AQ).ipynb\" target=\"_parent\"><img src=\"https://colab.research.google.com/assets/colab-badge.svg\" alt=\"Open In Colab\"/></a>"
      ]
    },
    {
      "cell_type": "markdown",
      "source": [
        "function findCheapestRoute(n, flights, src, dst, k):\n",
        "    // Step 1: Initialize graph as an adjacency list\n",
        "    graph = initializeGraph(n, flights) // adjacency list of flights\n",
        "    \n",
        "    // Step 2: Create a priority queue to process cities in order of cost\n",
        "    priorityQueue = empty priority queue\n",
        "    priorityQueue.push((0, src, 0)) // (cost, city, stops)\n",
        "    \n",
        "    // Step 3: Initialize distance array to store the minimum cost for each city and number of stops\n",
        "    dist = initializeDistanceArray(n, k)\n",
        "    dist[src][0] = 0  // No cost to start at the source city with 0 stops\n",
        "\n",
        "    // Step 4: Process the cities in the priority queue\n",
        "    while priorityQueue is not empty:\n",
        "        currentCost, currentCity, currentStops = priorityQueue.pop()\n",
        "\n",
        "        // Step 5: If we've reached the destination city with <= k stops, return the cost\n",
        "        if currentCity == dst:\n",
        "            return currentCost\n",
        "\n",
        "        // Step 6: If we have exceeded k stops, continue processing other cities\n",
        "        if currentStops > k:\n",
        "            continue\n",
        "\n",
        "        // Step 7: Explore all neighboring cities that are reachable from the current city\n",
        "        for each neighbor in graph[currentCity]:\n",
        "            nextCity = neighbor[0]\n",
        "            flightCost = neighbor[1]\n",
        "            newCost = currentCost + flightCost\n",
        "\n",
        "            // Step 8: If traveling to the next city is cheaper with the current number of stops, update and push to the queue\n",
        "            if newCost < dist[nextCity][currentStops + 1]:\n",
        "                dist[nextCity][currentStops + 1] = newCost\n",
        "                priorityQueue.push((newCost, nextCity, currentStops + 1))\n",
        "\n",
        "    // Step 9: If no valid path exists, return -1\n",
        "    return -1\n"
      ],
      "metadata": {
        "id": "jvJqHdGDKlvo"
      }
    },
    {
      "cell_type": "code",
      "execution_count": 1,
      "metadata": {
        "id": "AFjukoISJg2c"
      },
      "outputs": [],
      "source": [
        "import heapq\n",
        "\n",
        "def findCheapestRoute(n, flights, src, dst, k):\n",
        "    # Initialize adjacency list for the flights\n",
        "    graph = {i: [] for i in range(n)}\n",
        "    for u, v, cost in flights:\n",
        "        graph[u].append((v, cost))\n",
        "\n",
        "    # Initialize dist array, each element holds a list of distances for 0 to k stops\n",
        "    dist = [[float('inf')] * (k + 2) for _ in range(n)]\n",
        "    dist[src][0] = 0  # No cost to start at the source with 0 stops\n",
        "\n",
        "    # Min-heap priority queue: (cost, city, stops)\n",
        "    pq = [(0, src, 0)]  # Starting at src with 0 stops\n",
        "\n",
        "    while pq:\n",
        "        current_cost, current_city, stops = heapq.heappop(pq)\n",
        "\n",
        "        # If we reached destination with <= k stops, return the cost\n",
        "        if current_city == dst:\n",
        "            return current_cost\n",
        "\n",
        "        # If we've already used k+1 stops, don't continue exploring\n",
        "        if stops > k:\n",
        "            continue\n",
        "\n",
        "        # Explore all neighbors\n",
        "        for next_city, price in graph[current_city]:\n",
        "            new_cost = current_cost + price\n",
        "            # Only consider this new path if it's cheaper and we haven't exceeded stops\n",
        "            if new_cost < dist[next_city][stops + 1]:\n",
        "                dist[next_city][stops + 1] = new_cost\n",
        "                heapq.heappush(pq, (new_cost, next_city, stops + 1))\n",
        "\n",
        "    # No valid path found with <= k stops\n",
        "    return -1\n"
      ]
    },
    {
      "cell_type": "code",
      "source": [
        "# Example 1\n",
        "n = 4\n",
        "flights = [[0, 1, 100], [1, 2, 100], [2, 0, 100], [1, 3, 600], [2, 3, 200]]\n",
        "src = 0\n",
        "dst = 3\n",
        "k = 1\n",
        "print(findCheapestRoute(n, flights, src, dst, k))  # Output: 700\n",
        "\n",
        "# Example 2\n",
        "n = 3\n",
        "flights = [[0, 1, 100], [1, 2, 100], [0, 2, 500]]\n",
        "src = 0\n",
        "dst = 2\n",
        "k = 1\n",
        "print(findCheapestRoute(n, flights, src, dst, k))  # Output: 200\n",
        "\n",
        "# Example 3\n",
        "n = 3\n",
        "flights = [[0, 1, 100], [1, 2, 100], [0, 2, 500]]\n",
        "src = 0\n",
        "dst = 2\n",
        "k = 0\n",
        "print(findCheapestRoute(n, flights, src, dst, k))  # Output: 500\n",
        "\n",
        "# Example 4\n",
        "n = 4\n",
        "flights = [[0, 1, 100], [0, 2, 200], [1, 3, 300], [2, 3, 300]]\n",
        "src = 0\n",
        "dst = 3\n",
        "k = 2\n",
        "print(findCheapestRoute(n, flights, src, dst, k))  # Output: 400\n",
        "\n",
        "# Example 5\n",
        "n = 4\n",
        "flights = [[0, 1, 100], [0, 2, 200], [1, 3, 300], [2, 3, 200]]\n",
        "src = 0\n",
        "dst = 3\n",
        "k = 2\n",
        "print(findCheapestRoute(n, flights, src, dst, k))  # Output: 400\n"
      ],
      "metadata": {
        "colab": {
          "base_uri": "https://localhost:8080/"
        },
        "id": "n0dhwFHvJ5E8",
        "outputId": "27ac6bab-62b9-43c8-ab5c-32bf0489cd4b"
      },
      "execution_count": 2,
      "outputs": [
        {
          "output_type": "stream",
          "name": "stdout",
          "text": [
            "700\n",
            "200\n",
            "500\n",
            "400\n",
            "400\n"
          ]
        }
      ]
    },
    {
      "cell_type": "markdown",
      "source": [
        "For each state, we process it by checking its neighbors, which can take\n",
        "𝑂\n",
        "(\n",
        "𝐸\n",
        ")\n",
        "O(E) time where\n",
        "𝐸\n",
        "E is the number of edges. The total number of states is\n",
        "𝑂\n",
        "(\n",
        "𝑛\n",
        "×\n",
        "(\n",
        "𝑘\n",
        "+\n",
        "1\n",
        ")\n",
        ")\n",
        "O(n×(k+1)) (each city and each stop count), and for each state, we perform a heap operation that takes\n",
        "𝑂\n",
        "(\n",
        "log\n",
        "⁡\n",
        "(\n",
        "𝑛\n",
        "×\n",
        "(\n",
        "𝑘\n",
        "+\n",
        "1\n",
        ")\n",
        ")\n",
        ")\n",
        "O(log(n×(k+1))).\n",
        "\n",
        "Thus, the overall time complexity is:\n",
        "\n",
        "𝑂\n",
        "(\n",
        "𝐸\n",
        "⋅\n",
        "log\n",
        "⁡\n",
        "(\n",
        "𝑛\n",
        "×\n",
        "(\n",
        "𝑘\n",
        "+\n",
        "1\n",
        ")))\n",
        "O(E⋅log(n×(k+1)))\n"
      ],
      "metadata": {
        "id": "uyvnNJ3HLJlX"
      }
    },
    {
      "cell_type": "markdown",
      "source": [
        "Efficiency for Large Graphs:\n",
        "For large graphs where\n",
        "𝑛\n",
        ">\n",
        "100\n",
        "n>100, the algorithm should be efficient enough for moderate values of\n",
        "𝑘\n",
        "k. However, as\n",
        "𝑘\n",
        "k increases, the space and time complexity grow significantly. If\n",
        "𝑘\n",
        "k is very large (e.g., close to\n",
        "𝑛\n",
        "n), the algorithm might become slower. Optimizing for very large\n",
        "𝑛\n",
        "n and\n",
        "𝑘\n",
        "k would involve reducing redundant states or using more advanced graph traversal techniques"
      ],
      "metadata": {
        "id": "wKceciwlLbR4"
      }
    },
    {
      "cell_type": "code",
      "source": [],
      "metadata": {
        "id": "hUasp5XQLOVX"
      },
      "execution_count": null,
      "outputs": []
    },
    {
      "cell_type": "markdown",
      "source": [
        "function optimizedFindCheapestRoute(n, flights, src, dst, k):\n",
        "    graph = initializeGraph(n, flights)\n",
        "    pq = priority queue\n",
        "    pq.push((0, src, 0))\n",
        "    \n",
        "    dist = [infinity] * n\n",
        "    dist[src] = 0\n",
        "    \n",
        "    for stops from 0 to k:\n",
        "        newDist = dist for this stop level\n",
        "        while pq is not empty:\n",
        "            currentCost, currentCity, currentStops = pq.pop()\n",
        "            for each neighbor in graph[currentCity]:\n",
        "                nextCity, price = neighbor\n",
        "                newCost = currentCost + price\n",
        "                if newCost < newDist[nextCity]:\n",
        "                    newDist[nextCity] = newCost\n",
        "                    pq.push((newCost, nextCity, currentStops + 1))\n",
        "        dist = newDist\n",
        "    \n",
        "    return dist[dst] if dist[dst] != infinity else -1\n",
        "\\\\"
      ],
      "metadata": {
        "id": "RUwXPZYlLhAp"
      }
    },
    {
      "cell_type": "markdown",
      "source": [
        "Time Complexity: The time complexity remains the same as the original algorithm,\n",
        "𝑂\n",
        "(\n",
        "𝐸\n",
        "log\n",
        "⁡\n",
        "(\n",
        "𝑛\n",
        "×\n",
        "(\n",
        "𝑘\n",
        "+\n",
        "1\n",
        ")\n",
        ")\n",
        ")\n",
        "O(Elog(n×(k+1))), but with reduced memory usage.\n",
        "\n",
        "Space Complexity: The space complexity is reduced to\n",
        "𝑂\n",
        "(\n",
        "𝑛\n",
        ")\n",
        "O(n), as we only store one state per city instead of multiple states for each number of stop"
      ],
      "metadata": {
        "id": "DY29ErSzLvwj"
      }
    },
    {
      "cell_type": "markdown",
      "source": [
        "If we were to ask an LLM (e.g., ChatGPT) for an optimized version, it might suggest similar improvements, such as limiting the number of states stored or using a different graph traversal algorithm, like A search*, to focus on promising paths early on.\n",
        "\n",
        "Comparison:\n",
        "\n",
        "Performance: Both versions may exhibit similar performance for large graphs with modest\n",
        "𝑘\n",
        "k, but the LLM might provide insights on more advanced heuristics.\n",
        "Time Complexity: The time complexity is likely to remain\n",
        "𝑂\n",
        "(\n",
        "𝐸\n",
        "log\n",
        "⁡\n",
        "(\n",
        "𝑛\n",
        "×\n",
        "(\n",
        "𝑘\n",
        "+\n",
        "1\n",
        ")\n",
        ")\n",
        ")\n",
        "O(Elog(n×(k+1))) for both versions.\n",
        "Correctness: Both versions should be correct if implemented according to the problem constraints."
      ],
      "metadata": {
        "id": "886YNhbzL0UP"
      }
    }
  ]
}